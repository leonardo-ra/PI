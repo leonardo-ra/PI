{
  "cells": [
    {
      "cell_type": "markdown",
      "metadata": {
        "id": "yamcc0eoa595"
      },
      "source": [
        "## **XFP detector with Yolov5**"
      ]
    },
    {
      "cell_type": "markdown",
      "metadata": {
        "id": "G7_YTSIQbIhZ"
      },
      "source": [
        "**Setup**"
      ]
    },
    {
      "cell_type": "code",
      "execution_count": null,
      "metadata": {
        "colab": {
          "base_uri": "https://localhost:8080/"
        },
        "id": "YW_xYmGxaxsh",
        "outputId": "43b07237-63ae-403f-e8d4-3c44ce00ecd1",
        "vscode": {
          "languageId": "python"
        }
      },
      "outputs": [
        {
          "name": "stdout",
          "output_type": "stream",
          "text": [
            "Cloning into 'yolov5'...\n",
            "remote: Enumerating objects: 14004, done.\u001b[K\n",
            "remote: Counting objects: 100% (231/231), done.\u001b[K\n",
            "remote: Compressing objects: 100% (145/145), done.\u001b[K\n",
            "remote: Total 14004 (delta 153), reused 129 (delta 86), pack-reused 13773\u001b[K\n",
            "Receiving objects: 100% (14004/14004), 13.65 MiB | 4.15 MiB/s, done.\n",
            "Resolving deltas: 100% (9580/9580), done.\n",
            "/content/yolov5\n",
            "\u001b[K     |████████████████████████████████| 182 kB 15.2 MB/s \n",
            "\u001b[K     |████████████████████████████████| 63 kB 2.0 MB/s \n",
            "\u001b[K     |████████████████████████████████| 1.6 MB 70.0 MB/s \n",
            "\u001b[K     |████████████████████████████████| 41 kB 664 kB/s \n",
            "\u001b[K     |████████████████████████████████| 178 kB 26.3 MB/s \n",
            "\u001b[K     |████████████████████████████████| 67 kB 6.5 MB/s \n",
            "\u001b[K     |████████████████████████████████| 138 kB 68.4 MB/s \n",
            "\u001b[K     |████████████████████████████████| 54 kB 2.8 MB/s \n",
            "\u001b[K     |████████████████████████████████| 145 kB 69.1 MB/s \n",
            "\u001b[K     |████████████████████████████████| 62 kB 1.8 MB/s \n",
            "\u001b[?25h  Building wheel for wget (setup.py) ... \u001b[?25l\u001b[?25hdone\n"
          ]
        }
      ],
      "source": [
        "#clone YOLO_v5 and import libraries\n",
        "!git clone https://github.com/ultralytics/yolov5 # clone git repo\n",
        "%cd yolov5\n",
        "%pip install -qr requirements.txt\n",
        "%pip install -q roboflow\n",
        "\n",
        "import torch\n",
        "import os\n",
        "from IPython.display import Image, clear_output # to display images"
      ]
    },
    {
      "cell_type": "markdown",
      "metadata": {
        "id": "IJ5AH4J6a4sY"
      },
      "source": [
        "**Setup**"
      ]
    },
    {
      "cell_type": "code",
      "execution_count": null,
      "metadata": {
        "id": "3QKyNfFQaxqK",
        "vscode": {
          "languageId": "python"
        }
      },
      "outputs": [],
      "source": [
        "# setup the environment\n",
        "os.environ[\"DATASET_DIRECTORY\"] = \"/content/datasets\""
      ]
    },
    {
      "cell_type": "markdown",
      "metadata": {
        "id": "_oF0eIP9diwP"
      },
      "source": [
        "**Train the Yolo model**"
      ]
    },
    {
      "cell_type": "code",
      "execution_count": null,
      "metadata": {
        "id": "X6mNU8graxnp",
        "vscode": {
          "languageId": "python"
        }
      },
      "outputs": [],
      "source": [
        "!python train.py --img 416 --batch 16 --epochs 100 --data {dataset.location}/data.yaml --weights yolov5s.pt --cache"
      ]
    },
    {
      "cell_type": "markdown",
      "metadata": {
        "id": "37w8VwdXeMw-"
      },
      "source": [
        "**Show Training Results**"
      ]
    },
    {
      "cell_type": "code",
      "execution_count": null,
      "metadata": {
        "id": "nnFvYn7zaxlb",
        "vscode": {
          "languageId": "python"
        }
      },
      "outputs": [],
      "source": [
        "# Start tensorbaord\n",
        "# Launch after you have started training\n",
        "# logs save in the folder \"runs\"\n",
        "%load_ext tensorboard\n",
        "%tensorboard --logdir runs"
      ]
    },
    {
      "cell_type": "markdown",
      "metadata": {
        "id": "4MjK4veGekxP"
      },
      "source": [
        "**Prediction**"
      ]
    },
    {
      "cell_type": "code",
      "execution_count": null,
      "metadata": {
        "id": "tN6A4Ne-axiq",
        "vscode": {
          "languageId": "python"
        }
      },
      "outputs": [],
      "source": [
        "!python detect.py --weights runs/train/exp/weights/best.pt --img 416 --conf 0.5 --source {dataset.location}/valid/images"
      ]
    },
    {
      "cell_type": "markdown",
      "metadata": {
        "id": "ksnU0eHee-FG"
      },
      "source": [
        "**Display Inference Images**"
      ]
    },
    {
      "cell_type": "code",
      "execution_count": null,
      "metadata": {
        "id": "WY-mibHnaxgZ",
        "vscode": {
          "languageId": "python"
        }
      },
      "outputs": [],
      "source": [
        "# Display inference on all test images\n",
        "import glob\n",
        "from IPython.display import Image, display\n",
        "\n",
        "i = 0\n",
        "# Choose the correct exp folder - see prev output block\n",
        "for imageName in glob.glob('/content/yolov5/runs/detect/exp/*.jpg'): # Assuming JPG\n",
        "  i+= 1\n",
        "  if i < 8: # number of images\n",
        "    display(Image(filename = imageName))\n",
        "    print(\"\\n\")"
      ]
    },
    {
      "cell_type": "markdown",
      "metadata": {
        "id": "zHCuwxQnf3a2"
      },
      "source": [
        "**Save model**"
      ]
    },
    {
      "cell_type": "code",
      "execution_count": null,
      "metadata": {
        "id": "JV_fyB5baxaB",
        "vscode": {
          "languageId": "python"
        }
      },
      "outputs": [],
      "source": [
        "# Export your model's weights for future use\n",
        "from google.colab import files\n",
        "files.download(\"./runs/train/exp/weights/best.pt\")"
      ]
    }
  ],
  "metadata": {
    "accelerator": "GPU",
    "colab": {
      "provenance": []
    },
    "gpuClass": "standard",
    "kernelspec": {
      "display_name": "Python 3",
      "name": "python3"
    }
  },
  "nbformat": 4,
  "nbformat_minor": 0
}
